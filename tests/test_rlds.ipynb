{
 "cells": [
  {
   "cell_type": "code",
   "execution_count": 1,
   "metadata": {},
   "outputs": [
    {
     "name": "stdout",
     "output_type": "stream",
     "text": [
      "No scene picked, downloads the droid_100 dataset, might be a bit slow!\n"
     ]
    }
   ],
   "source": [
    "import rerun as rr\n",
    "from rerun_rlds_ur5.rlds import RLDSDataset, DeliGraspTrajectory\n",
    "from rerun_rlds_ur5.rerun_loader_urdf import URDFLogger, get_urdf_paths, update_urdf\n",
    "import os\n",
    "\n",
    "ur5_urdf, _, _= get_urdf_paths(\"ur5\")\n",
    "urdf_logger = URDFLogger(ur5_urdf)"
   ]
  },
  {
   "cell_type": "code",
   "execution_count": null,
   "metadata": {},
   "outputs": [],
   "source": [
    "rr.init(\"DeliGrasp-visualized\", spawn=True)\n",
    "rlds_scene = RLDSDataset()\n",
    "rr.send_blueprint(rlds_scene.blueprint())\n",
    "\n",
    "# rr.set_time_nanos(\"real_time\", 0)\n",
    "urdf_logger.log()\n",
    "rlds_scene.log_robot_dataset(urdf_logger.entity_to_transform)\n",
    "rr.log(\"annotation\", rr.TextDocument(\"annotation_1\",media_type=\"text/markdown\"))\n"
   ]
  },
  {
   "cell_type": "code",
   "execution_count": 32,
   "metadata": {},
   "outputs": [
    {
     "name": "stderr",
     "output_type": "stream",
     "text": [
      "[2025-02-28T18:34:45Z INFO  re_sdk_comms::server] Hosting a SDK server over TCP at 0.0.0.0:9876. Connect with the Rerun logging SDK.\n",
      "[2025-02-28T18:34:45Z INFO  winit::platform_impl::linux::x11::window] Guessed window scale factor: 1\n",
      "[2025-02-28T18:34:45Z WARN  wgpu_hal::gles::egl] No config found!\n",
      "[2025-02-28T18:34:45Z WARN  wgpu_hal::gles::egl] EGL says it can present to the window but not natively\n",
      "[2025-02-28T18:34:45Z INFO  re_sdk_comms::server] New SDK client connected from: 127.0.0.1:57366\n",
      "[2025-02-28T18:34:45Z WARN  wgpu_hal::gles::adapter] Max vertex attribute stride unknown. Assuming it is 2048\n",
      "[2025-02-28T18:34:45Z WARN  wgpu_hal::gles::adapter] Max vertex attribute stride unknown. Assuming it is 2048\n",
      "[2025-02-28T18:34:45Z INFO  egui_wgpu] There were 3 available wgpu adapters: {backend: Vulkan, device_type: DiscreteGpu, name: \"NVIDIA GeForce RTX 2070\", driver: \"NVIDIA\", driver_info: \"550.120\", vendor: 0x10DE, device: 0x1F02}, {backend: Vulkan, device_type: Cpu, name: \"llvmpipe (LLVM 15.0.7, 256 bits)\", driver: \"llvmpipe\", driver_info: \"Mesa 23.2.1-1ubuntu3.1~22.04.2 (LLVM 15.0.7)\", vendor: 0x10005}, {backend: Gl, device_type: Other, name: \"NVIDIA GeForce RTX 2070/PCIe/SSE2\", driver_info: \"3.3.0 NVIDIA 550.120\", vendor: 0x10DE}\n"
     ]
    }
   ],
   "source": [
    "path1 = \"/home/will/MAGPIE/datasets/trajectories/1740699609.3272698_yellow_rubber_id-0/episode_yellow rubber_1740699609.3272698.npy\"\n",
    "path2 = \"/home/will/MAGPIE/datasets/trajectories/1740693135.5613089_orange_id-0/episode_orange_1740693135.5613089.npy\"\n",
    "rr.init(\"DeliGrasp-visualized\", spawn=True)\n",
    "\n",
    "rlds_scene_1 = DeliGraspTrajectory(path1)\n",
    "rlds_scene_2 = DeliGraspTrajectory(path2)\n",
    "rr.send_blueprint(rlds_scene_1.blueprint())\n",
    "\n",
    "urdf_logger.log()\n",
    "rlds_scene_1.log_robot_dataset(urdf_logger.entity_to_transform)\n",
    "rlds_scene_2.log_robot_dataset(urdf_logger.entity_to_transform)\n",
    "rr.log(\"annotation\", rr.TextDocument(\"annotation_1\",media_type=\"text/markdown\"))\n"
   ]
  },
  {
   "cell_type": "code",
   "execution_count": 33,
   "metadata": {},
   "outputs": [],
   "source": [
    "rlds_scene_1.log_robot_dataset(urdf_logger.entity_to_transform)\n",
    "rlds_scene_2.log_robot_dataset(urdf_logger.entity_to_transform)"
   ]
  }
 ],
 "metadata": {
  "kernelspec": {
   "display_name": "octo",
   "language": "python",
   "name": "python3"
  },
  "language_info": {
   "codemirror_mode": {
    "name": "ipython",
    "version": 3
   },
   "file_extension": ".py",
   "mimetype": "text/x-python",
   "name": "python",
   "nbconvert_exporter": "python",
   "pygments_lexer": "ipython3",
   "version": "3.10.15"
  }
 },
 "nbformat": 4,
 "nbformat_minor": 2
}
